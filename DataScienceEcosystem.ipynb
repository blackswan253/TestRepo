{
 "cells": [
  {
   "cell_type": "markdown",
   "id": "92799d73-5587-4256-8f01-b07f3c619d66",
   "metadata": {},
   "source": [
    "# Data Science Tools and Ecosystem"
   ]
  },
  {
   "cell_type": "markdown",
   "id": "0e7d39d6-98da-49a2-adfe-916d710153f7",
   "metadata": {},
   "source": [
    "In this notebook, Data Science Tools and Ecosystem are summarized."
   ]
  },
  {
   "cell_type": "markdown",
   "id": "798a6ea0-cbe0-4e90-9c9b-4134d64b448d",
   "metadata": {},
   "source": [
    "Some of the popular languages that Data Scientists use are:\n",
    "1. Python\r\n",
    "2. Java\r\n",
    "3. C++\r\n",
    "4. C"
   ]
  },
  {
   "cell_type": "markdown",
   "id": "2323a732-0135-43a9-bf91-60bb49870152",
   "metadata": {},
   "source": [
    "Some of the commonly used libraries used by Data Scientists include:\n",
    "1. Matplotlib\n",
    "2. Numpy\n",
    "3. Scikit-learn"
   ]
  },
  {
   "cell_type": "markdown",
   "id": "695eda6c-1a60-4c15-8e54-106e0128853c",
   "metadata": {},
   "source": [
    "Some development environment open source tools used in data science.\n",
    "| Data Science Tools |\n",
    "| ------ |\n",
    "| Jupyter IDE |\n",
    "| RStudio |\n",
    "| Microsoft Visual Studio |\n",
    "| PyCharm |\n",
    "| Spyder |\n",
    "| Anaconda Navigator |"
   ]
  },
  {
   "cell_type": "markdown",
   "id": "ec26baa3-3ce7-47c8-88b2-980e1bffaaa7",
   "metadata": {},
   "source": [
    "### Below are a few examples of evaluating arithmetic expressions in Python"
   ]
  },
  {
   "cell_type": "code",
   "execution_count": 46,
   "id": "1c6e2588-95e0-4ad0-8270-30289c84bd24",
   "metadata": {},
   "outputs": [
    {
     "data": {
      "text/plain": [
       "17"
      ]
     },
     "execution_count": 46,
     "metadata": {},
     "output_type": "execute_result"
    }
   ],
   "source": [
    "# This a simple arithmetic expression to mutiply then add integers.\n",
    "\n",
    "(3*4)+5"
   ]
  },
  {
   "cell_type": "code",
   "execution_count": 48,
   "id": "a472c5a4-966e-4c0c-b240-46b88b12872c",
   "metadata": {},
   "outputs": [
    {
     "data": {
      "text/plain": [
       "3.3333333333333335"
      ]
     },
     "execution_count": 48,
     "metadata": {},
     "output_type": "execute_result"
    }
   ],
   "source": [
    "# This will convert 200 minutes to hours by diving by 60.\n",
    "\n",
    "200/60"
   ]
  },
  {
   "cell_type": "markdown",
   "id": "ecd27a54-b56e-4c4e-a1a2-a9b40f25100e",
   "metadata": {},
   "source": [
    "Objectives:\n",
    "In this assignment, we learned:\n",
    "- Create a Jupyter Notebook\n",
    "- Insert code and markdown cells\n",
    "- Share a Jupyter notebook through GitHub\n",
    "  "
   ]
  },
  {
   "cell_type": "markdown",
   "id": "5410f715-1844-4197-9ffe-75258d8bb3d3",
   "metadata": {},
   "source": [
    "## Author\n",
    "blackswan295"
   ]
  }
 ],
 "metadata": {
  "kernelspec": {
   "display_name": "Python 3 (ipykernel)",
   "language": "python",
   "name": "python3"
  },
  "language_info": {
   "codemirror_mode": {
    "name": "ipython",
    "version": 3
   },
   "file_extension": ".py",
   "mimetype": "text/x-python",
   "name": "python",
   "nbconvert_exporter": "python",
   "pygments_lexer": "ipython3",
   "version": "3.12.3"
  }
 },
 "nbformat": 4,
 "nbformat_minor": 5
}
